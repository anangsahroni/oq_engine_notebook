{
 "cells": [
  {
   "cell_type": "code",
   "execution_count": 1,
   "metadata": {},
   "outputs": [],
   "source": [
    "%load_ext autoreload\n",
    "%autoreload 2\n",
    "import warnings; warnings.filterwarnings(\"ignore\")"
   ]
  },
  {
   "cell_type": "code",
   "execution_count": 2,
   "metadata": {},
   "outputs": [],
   "source": [
    "%matplotlib inline\n",
    "\n",
    "from openquake.hazardlib.source import AreaSource\n",
    "from openquake.hazardlib.mfd import TruncatedGRMFD\n",
    "from openquake.hazardlib.scalerel import WC1994\n",
    "from openquake.hazardlib.geo import Point, NodalPlane, Polygon\n",
    "from openquake.hazardlib.pmf import PMF\n",
    "from openquake.hazardlib.tom import PoissonTOM\n",
    "from openquake.hazardlib.calc.hazard_curve import calc_hazard_curves\n",
    "from openquake.hazardlib.calc import disaggregation, mag_dist_pmf\n",
    "from openquake.hazardlib.site import Site, SiteCollection\n",
    "from openquake.hazardlib.imt import PGA\n",
    "from openquake.hazardlib.gsim.campbell_bozorgnia_2008 import CampbellBozorgnia2008\n",
    "\n",
    "import numpy\n",
    "from matplotlib import pyplot\n",
    "from mpl_toolkits.mplot3d import Axes3D"
   ]
  },
  {
   "cell_type": "code",
   "execution_count": 3,
   "metadata": {},
   "outputs": [],
   "source": [
    "# define area source of circular shape of radius 200 km\n",
    "src = AreaSource(\n",
    "    source_id='1',\n",
    "    name='area',\n",
    "    tectonic_region_type='Active Shallow Crust',\n",
    "    mfd=TruncatedGRMFD(min_mag=5., max_mag=6.5, bin_width=0.2, a_val=4.45, b_val=1.),\n",
    "    rupture_mesh_spacing=2.,\n",
    "    magnitude_scaling_relationship=WC1994(),\n",
    "    rupture_aspect_ratio=1.,\n",
    "    temporal_occurrence_model=PoissonTOM(50.),\n",
    "    upper_seismogenic_depth=2.,\n",
    "    lower_seismogenic_depth=12.,\n",
    "    nodal_plane_distribution=PMF([(1, NodalPlane(strike=0., dip=90, rake=0.))]),\n",
    "    hypocenter_distribution=PMF([(1, 7.)]),\n",
    "    polygon=Point(0., 0.).to_polygon(200.),\n",
    "    area_discretization=10.\n",
    ")\n"
   ]
  },
  {
   "cell_type": "code",
   "execution_count": 4,
   "metadata": {},
   "outputs": [],
   "source": [
    "\n",
    "# first compute hazard curve\n",
    "imls = [0.005, 0.007, 0.0098, 0.0137, 0.0192, 0.0269, 0.0376, 0.0527, 0.0738, 0.103, 0.145,\n",
    "        0.203, 0.284, 0.397, 0.556, 0.778, 1.09, 1.52, 2.13]\n",
    "site = Site(location=Point(0., 0.), vs30=760., vs30measured=True, z1pt0=40., z2pt5=1.)\n",
    "\n",
    "curves = calc_hazard_curves(\n",
    "    groups=[src],\n",
    "    srcfilter=SiteCollection([site]),\n",
    "    imtls={'PGA': imls},\n",
    "    gsim_by_trt={'Active Shallow Crust': CampbellBozorgnia2008()},\n",
    "    truncation_level=None\n",
    ")"
   ]
  },
  {
   "cell_type": "code",
   "execution_count": 5,
   "metadata": {},
   "outputs": [
    {
     "data": {
      "image/png": "[encoded data removed]",
      "text/plain": [
       "<Figure size 648x648 with 1 Axes>"
      ]
     },
     "metadata": {
      "needs_background": "light"
     },
     "output_type": "display_data"
    }
   ],
   "source": [
    "\n",
    "fig = pyplot.figure(figsize=(9, 9))\n",
    "ax = fig.add_subplot(111)\n",
    "ax.plot(imls, curves['PGA'][0], '-r', linewidth=2)\n",
    "ax.set_xscale('log')\n",
    "ax.set_yscale('log')\n",
    "ax.grid()\n",
    "txt = ax.set_xlabel('PGA (g)', fontsize=20)\n",
    "txt = ax.set_ylabel('Probability of exceedance in 50 years', fontsize=20)"
   ]
  },
  {
   "cell_type": "code",
   "execution_count": 13,
   "metadata": {},
   "outputs": [
    {
     "ename": "ValueError",
     "evalue": "too many values to unpack (expected 2)",
     "output_type": "error",
     "traceback": [
      "\u001b[0;31m---------------------------------------------------------------------------\u001b[0m",
      "\u001b[0;31mValueError\u001b[0m                                Traceback (most recent call last)",
      "\u001b[0;32m<ipython-input-13-653fe748c292>\u001b[0m in \u001b[0;36m<module>\u001b[0;34m\u001b[0m\n\u001b[1;32m     13\u001b[0m     \u001b[0mmag_bin_width\u001b[0m\u001b[0;34m=\u001b[0m\u001b[0;36m0.5\u001b[0m\u001b[0;34m,\u001b[0m\u001b[0;34m\u001b[0m\u001b[0;34m\u001b[0m\u001b[0m\n\u001b[1;32m     14\u001b[0m     \u001b[0mdist_bin_width\u001b[0m\u001b[0;34m=\u001b[0m\u001b[0;36m20.\u001b[0m\u001b[0;34m,\u001b[0m\u001b[0;34m\u001b[0m\u001b[0;34m\u001b[0m\u001b[0m\n\u001b[0;32m---> 15\u001b[0;31m     \u001b[0mcoord_bin_width\u001b[0m\u001b[0;34m=\u001b[0m\u001b[0;36m.2\u001b[0m\u001b[0;34m\u001b[0m\u001b[0;34m\u001b[0m\u001b[0m\n\u001b[0m\u001b[1;32m     16\u001b[0m )\n",
      "\u001b[0;32m~/.local/lib/python3.6/site-packages/openquake/hazardlib/calc/disagg.py\u001b[0m in \u001b[0;36mdisaggregation\u001b[0;34m(sources, site, imt, iml, gsim_by_trt, truncation_level, n_epsilons, mag_bin_width, dist_bin_width, coord_bin_width, source_filter, **kwargs)\u001b[0m\n\u001b[1;32m    323\u001b[0m             srcs[0].temporal_occurrence_model)\n\u001b[1;32m    324\u001b[0m         \u001b[0mctxs\u001b[0m \u001b[0;34m=\u001b[0m \u001b[0mcmaker\u001b[0m\u001b[0;34m.\u001b[0m\u001b[0mfrom_srcs\u001b[0m\u001b[0;34m(\u001b[0m\u001b[0msrcs\u001b[0m\u001b[0;34m,\u001b[0m \u001b[0msitecol\u001b[0m\u001b[0;34m)\u001b[0m\u001b[0;34m\u001b[0m\u001b[0;34m\u001b[0m\u001b[0m\n\u001b[0;32m--> 325\u001b[0;31m         \u001b[0mbdata\u001b[0m\u001b[0;34m[\u001b[0m\u001b[0mtrt\u001b[0m\u001b[0;34m]\u001b[0m \u001b[0;34m=\u001b[0m \u001b[0m_disaggregate\u001b[0m\u001b[0;34m(\u001b[0m\u001b[0mcmaker\u001b[0m\u001b[0;34m,\u001b[0m \u001b[0msitecol\u001b[0m\u001b[0;34m,\u001b[0m \u001b[0mctxs\u001b[0m\u001b[0;34m,\u001b[0m \u001b[0miml2\u001b[0m\u001b[0;34m,\u001b[0m \u001b[0meps3\u001b[0m\u001b[0;34m)\u001b[0m\u001b[0;34m\u001b[0m\u001b[0;34m\u001b[0m\u001b[0m\n\u001b[0m\u001b[1;32m    326\u001b[0m \u001b[0;34m\u001b[0m\u001b[0m\n\u001b[1;32m    327\u001b[0m     \u001b[0;32mif\u001b[0m \u001b[0msum\u001b[0m\u001b[0;34m(\u001b[0m\u001b[0mlen\u001b[0m\u001b[0;34m(\u001b[0m\u001b[0mbd\u001b[0m\u001b[0;34m.\u001b[0m\u001b[0mmags\u001b[0m\u001b[0;34m)\u001b[0m \u001b[0;32mfor\u001b[0m \u001b[0mbd\u001b[0m \u001b[0;32min\u001b[0m \u001b[0mbdata\u001b[0m\u001b[0;34m.\u001b[0m\u001b[0mvalues\u001b[0m\u001b[0;34m(\u001b[0m\u001b[0;34m)\u001b[0m\u001b[0;34m)\u001b[0m \u001b[0;34m==\u001b[0m \u001b[0;36m0\u001b[0m\u001b[0;34m:\u001b[0m\u001b[0;34m\u001b[0m\u001b[0;34m\u001b[0m\u001b[0m\n",
      "\u001b[0;32m~/.local/lib/python3.6/site-packages/openquake/hazardlib/calc/disagg.py\u001b[0m in \u001b[0;36m_disaggregate\u001b[0;34m(cmaker, sitecol, ctxs, iml2, eps3, pne_mon, gmf_mon)\u001b[0m\n\u001b[1;32m     73\u001b[0m                 [to_distribution_values(lvl, imt)\n\u001b[1;32m     74\u001b[0m                  for imt, lvl in zip(iml2.imts, iml2)])  # shape (M, P)\n\u001b[0;32m---> 75\u001b[0;31m             \u001b[0mpne\u001b[0m \u001b[0;34m=\u001b[0m \u001b[0m_disaggregate_pne\u001b[0m\u001b[0;34m(\u001b[0m\u001b[0mrctx\u001b[0m\u001b[0;34m,\u001b[0m \u001b[0mmean_std\u001b[0m\u001b[0;34m,\u001b[0m \u001b[0miml\u001b[0m\u001b[0;34m,\u001b[0m \u001b[0;34m*\u001b[0m\u001b[0meps3\u001b[0m\u001b[0;34m)\u001b[0m\u001b[0;34m\u001b[0m\u001b[0;34m\u001b[0m\u001b[0m\n\u001b[0m\u001b[1;32m     76\u001b[0m             \u001b[0macc\u001b[0m\u001b[0;34m[\u001b[0m\u001b[0;34m'pnes'\u001b[0m\u001b[0;34m]\u001b[0m\u001b[0;34m.\u001b[0m\u001b[0mappend\u001b[0m\u001b[0;34m(\u001b[0m\u001b[0mpne\u001b[0m\u001b[0;34m)\u001b[0m\u001b[0;34m\u001b[0m\u001b[0;34m\u001b[0m\u001b[0m\n\u001b[1;32m     77\u001b[0m     \u001b[0;32mreturn\u001b[0m \u001b[0mpack\u001b[0m\u001b[0;34m(\u001b[0m\u001b[0macc\u001b[0m\u001b[0;34m,\u001b[0m \u001b[0;34m'mags dists lons lats pnes'\u001b[0m\u001b[0;34m.\u001b[0m\u001b[0msplit\u001b[0m\u001b[0;34m(\u001b[0m\u001b[0;34m)\u001b[0m\u001b[0;34m)\u001b[0m\u001b[0;34m\u001b[0m\u001b[0;34m\u001b[0m\u001b[0m\n",
      "\u001b[0;32m~/.local/lib/python3.6/site-packages/openquake/hazardlib/calc/disagg.py\u001b[0m in \u001b[0;36m_disaggregate_pne\u001b[0;34m(rupture, mean_std, imls, truncnorm, epsilons, eps_bands)\u001b[0m\n\u001b[1;32m     89\u001b[0m     \u001b[0mn_epsilons\u001b[0m \u001b[0;34m=\u001b[0m \u001b[0mlen\u001b[0m\u001b[0;34m(\u001b[0m\u001b[0mepsilons\u001b[0m\u001b[0;34m)\u001b[0m \u001b[0;34m-\u001b[0m \u001b[0;36m1\u001b[0m\u001b[0;34m\u001b[0m\u001b[0;34m\u001b[0m\u001b[0m\n\u001b[1;32m     90\u001b[0m     \u001b[0mpoes\u001b[0m \u001b[0;34m=\u001b[0m \u001b[0mnumpy\u001b[0m\u001b[0;34m.\u001b[0m\u001b[0mzeros\u001b[0m\u001b[0;34m(\u001b[0m\u001b[0mimls\u001b[0m\u001b[0;34m.\u001b[0m\u001b[0mshape\u001b[0m \u001b[0;34m+\u001b[0m \u001b[0;34m(\u001b[0m\u001b[0mn_epsilons\u001b[0m\u001b[0;34m,\u001b[0m\u001b[0;34m)\u001b[0m\u001b[0;34m)\u001b[0m\u001b[0;34m\u001b[0m\u001b[0;34m\u001b[0m\u001b[0m\n\u001b[0;32m---> 91\u001b[0;31m     \u001b[0;32mfor\u001b[0m \u001b[0;34m(\u001b[0m\u001b[0mm\u001b[0m\u001b[0;34m,\u001b[0m \u001b[0mp\u001b[0m\u001b[0;34m)\u001b[0m\u001b[0;34m,\u001b[0m \u001b[0miml\u001b[0m \u001b[0;32min\u001b[0m \u001b[0mnumpy\u001b[0m\u001b[0;34m.\u001b[0m\u001b[0mndenumerate\u001b[0m\u001b[0;34m(\u001b[0m\u001b[0mimls\u001b[0m\u001b[0;34m)\u001b[0m\u001b[0;34m:\u001b[0m\u001b[0;34m\u001b[0m\u001b[0;34m\u001b[0m\u001b[0m\n\u001b[0m\u001b[1;32m     92\u001b[0m         \u001b[0;31m# compute iml value with respect to standard (mean=0, std=1)\u001b[0m\u001b[0;34m\u001b[0m\u001b[0;34m\u001b[0m\u001b[0;34m\u001b[0m\u001b[0m\n\u001b[1;32m     93\u001b[0m         \u001b[0;31m# normal distributions\u001b[0m\u001b[0;34m\u001b[0m\u001b[0;34m\u001b[0m\u001b[0;34m\u001b[0m\u001b[0m\n",
      "\u001b[0;31mValueError\u001b[0m: too many values to unpack (expected 2)"
     ]
    }
   ],
   "source": [
    "\n",
    "# disaggregate ground motion value corresponding to 0.1 poe\n",
    "poes = curves['PGA'][0]\n",
    "iml = numpy.interp([0.1], poes[::-1], imls[::-1])\n",
    "\n",
    "(mags, dists, lons, lats, eps, trts), diss_matrix = disaggregation(\n",
    "    sources=[src],\n",
    "    site=site,\n",
    "    imt=PGA(),\n",
    "    iml=iml,\n",
    "    gsim_by_trt={'Active Shallow Crust': CampbellBozorgnia2008()},\n",
    "    truncation_level=3,\n",
    "    n_epsilons=3,\n",
    "    mag_bin_width=0.5,\n",
    "    dist_bin_width=20.,\n",
    "    coord_bin_width=.2\n",
    ")"
   ]
  },
  {
   "cell_type": "code",
   "execution_count": 7,
   "metadata": {},
   "outputs": [
    {
     "name": "stdout",
     "output_type": "stream",
     "text": [
      "Help on function disaggregation in module openquake.hazardlib.calc.disagg:\n",
      "\n",
      "disaggregation(sources, site, imt, iml, gsim_by_trt, truncation_level, n_epsilons, mag_bin_width, dist_bin_width, coord_bin_width, source_filter=<openquake.hazardlib.calc.filters.SourceFilter object at 0x7fdcd01bff28>, **kwargs)\n",
      "    Compute \"Disaggregation\" matrix representing conditional probability of an\n",
      "    intensity mesaure type ``imt`` exceeding, at least once, an intensity\n",
      "    measure level ``iml`` at a geographical location ``site``, given rupture\n",
      "    scenarios classified in terms of:\n",
      "    \n",
      "    - rupture magnitude\n",
      "    - Joyner-Boore distance from rupture surface to site\n",
      "    - longitude and latitude of the surface projection of a rupture's point\n",
      "      closest to ``site``\n",
      "    - epsilon: number of standard deviations by which an intensity measure\n",
      "      level deviates from the median value predicted by a GSIM, given the\n",
      "      rupture parameters\n",
      "    - rupture tectonic region type\n",
      "    \n",
      "    In other words, the disaggregation matrix allows to compute the probability\n",
      "    of each scenario with the specified properties (e.g., magnitude, or the\n",
      "    magnitude and distance) to cause one or more exceedences of a given hazard\n",
      "    level.\n",
      "    \n",
      "    For more detailed information about the disaggregation, see for instance\n",
      "    \"Disaggregation of Seismic Hazard\", Paolo Bazzurro, C. Allin Cornell,\n",
      "    Bulletin of the Seismological Society of America, Vol. 89, pp. 501-520,\n",
      "    April 1999.\n",
      "    \n",
      "    :param sources:\n",
      "        Seismic source model, as for\n",
      "        :mod:`PSHA <openquake.hazardlib.calc.hazard_curve>` calculator it\n",
      "        should be an iterator of seismic sources.\n",
      "    :param site:\n",
      "        :class:`~openquake.hazardlib.site.Site` of interest to calculate\n",
      "        disaggregation matrix for.\n",
      "    :param imt:\n",
      "        Instance of :mod:`intensity measure type <openquake.hazardlib.imt>`\n",
      "        class.\n",
      "    :param iml:\n",
      "        Intensity measure level. A float value in units of ``imt``.\n",
      "    :param gsim_by_trt:\n",
      "        Tectonic region type to GSIM objects mapping.\n",
      "    :param truncation_level:\n",
      "        Float, number of standard deviations for truncation of the intensity\n",
      "        distribution.\n",
      "    :param n_epsilons:\n",
      "        Integer number of epsilon histogram bins in the result matrix.\n",
      "    :param mag_bin_width:\n",
      "        Magnitude discretization step, width of one magnitude histogram bin.\n",
      "    :param dist_bin_width:\n",
      "        Distance histogram discretization step, in km.\n",
      "    :param coord_bin_width:\n",
      "        Longitude and latitude histograms discretization step,\n",
      "        in decimal degrees.\n",
      "    :param source_filter:\n",
      "        Optional source-site filter function. See\n",
      "        :mod:`openquake.hazardlib.calc.filters`.\n",
      "    \n",
      "    :returns:\n",
      "        A tuple of two items. First is itself a tuple of bin edges information\n",
      "        for (in specified order) magnitude, distance, longitude, latitude,\n",
      "        epsilon and tectonic region types.\n",
      "    \n",
      "        Second item is 6d-array representing the full disaggregation matrix.\n",
      "        Dimensions are in the same order as bin edges in the first item\n",
      "        of the result tuple. The matrix can be used directly by pmf-extractor\n",
      "        functions.\n",
      "\n"
     ]
    }
   ],
   "source": [
    "help(disaggregation)"
   ]
  }
 ],
 "metadata": {
  "kernelspec": {
   "display_name": "Python 3",
   "language": "python",
   "name": "python3"
  },
  "language_info": {
   "codemirror_mode": {
    "name": "ipython",
    "version": 3
   },
   "file_extension": ".py",
   "mimetype": "text/x-python",
   "name": "python",
   "nbconvert_exporter": "python",
   "pygments_lexer": "ipython3",
   "version": "3.6.9"
  }
 },
 "nbformat": 4,
 "nbformat_minor": 4
}
