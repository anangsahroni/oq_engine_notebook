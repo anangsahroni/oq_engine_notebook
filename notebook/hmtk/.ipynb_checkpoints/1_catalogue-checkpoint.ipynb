{
 "cells": [
  {
   "cell_type": "code",
   "execution_count": 4,
   "metadata": {},
   "outputs": [],
   "source": [
    "from openquake.hmtk.seismicity.declusterer.distance_time_windows import UhrhammerWindow\n",
    "declust_config = {\n",
    "    'time_distance_window': UhrhammerWindow(),\n",
    "    'fs_time_prop': 1.0}"
   ]
  },
  {
   "cell_type": "code",
   "execution_count": 7,
   "metadata": {},
   "outputs": [
    {
     "ename": "NameError",
     "evalue": "name 'catalogue' is not defined",
     "output_type": "error",
     "traceback": [
      "\u001b[0;31m---------------------------------------------------------------------------\u001b[0m",
      "\u001b[0;31mNameError\u001b[0m                                 Traceback (most recent call last)",
      "\u001b[0;32m<ipython-input-7-ae726827a50f>\u001b[0m in \u001b[0;36m<module>\u001b[0;34m\u001b[0m\n\u001b[1;32m      3\u001b[0m \u001b[0;34m\u001b[0m\u001b[0m\n\u001b[1;32m      4\u001b[0m cluster_index,cluster_flag = declustering.decluster (\n\u001b[0;32m----> 5\u001b[0;31m     \u001b[0mcatalogue\u001b[0m\u001b[0;34m,\u001b[0m\u001b[0;34m\u001b[0m\u001b[0;34m\u001b[0m\u001b[0m\n\u001b[0m\u001b[1;32m      6\u001b[0m     declust_config )\n",
      "\u001b[0;31mNameError\u001b[0m: name 'catalogue' is not defined"
     ]
    }
   ],
   "source": [
    "from openquake.hmtk.seismicity.declusterer.dec_gardner_knopoff import GardnerKnopoffType1\n",
    "declustering = GardnerKnopoffType1()\n",
    "\n",
    "cluster_index,cluster_flag = declustering.decluster (\n",
    "    catalogue,\n",
    "    declust_config )"
   ]
  },
  {
   "cell_type": "code",
   "execution_count": null,
   "metadata": {},
   "outputs": [],
   "source": []
  }
 ],
 "metadata": {
  "kernelspec": {
   "display_name": "Python 3",
   "language": "python",
   "name": "python3"
  },
  "language_info": {
   "codemirror_mode": {
    "name": "ipython",
    "version": 3
   },
   "file_extension": ".py",
   "mimetype": "text/x-python",
   "name": "python",
   "nbconvert_exporter": "python",
   "pygments_lexer": "ipython3",
   "version": "3.6.9"
  }
 },
 "nbformat": 4,
 "nbformat_minor": 4
}
